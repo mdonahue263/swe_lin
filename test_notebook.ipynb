{
 "cells": [
  {
   "cell_type": "code",
   "execution_count": 1,
   "metadata": {},
   "outputs": [],
   "source": [
    "    # \n",
    "    # MATLAB to Python code conversion assistance was provided by \n",
    "    # OpenAI’s ChatGPT, used as a tool to facilitate code translation. \n",
    "    # The translated code was adapted to study numerical properties \n",
    "    # of a two-vortex problem, with modifications as needed to focus \n",
    "    # on error analysis and numerical assumptions.\n",
    "    # "
   ]
  },
  {
   "cell_type": "code",
   "execution_count": 2,
   "metadata": {},
   "outputs": [],
   "source": [
    "import os\n",
    "os.chdir('scripts')"
   ]
  },
  {
   "cell_type": "code",
   "execution_count": 3,
   "metadata": {},
   "outputs": [],
   "source": [
    "import numpy as np\n",
    "import matplotlib.pyplot as plt\n",
    "plt.ion()\n",
    "from functions import initcond, rk3step, sweplot"
   ]
  },
  {
   "cell_type": "code",
   "execution_count": 4,
   "metadata": {},
   "outputs": [],
   "source": [
    "import matplotlib\n",
    "matplotlib.use('TkAgg')"
   ]
  },
  {
   "cell_type": "code",
   "execution_count": 49,
   "metadata": {},
   "outputs": [],
   "source": [
    "\n",
    "\n",
    "\n",
    "# Define domain and grid parameters\n",
    "M, N = 128, 64\n",
    "dt = 0.05\n",
    "ntimes = 5120\n",
    "xmin, xmax = 0.0, 1280.0\n",
    "ymin, ymax = 0.0, 640.0\n",
    "\n",
    "dx = (xmax - xmin) / M\n",
    "dy = (ymax - ymin) / N\n",
    "dxs = [dx, dy]\n",
    "\n",
    "xh = np.linspace(xmin + dx / 2, xmax - dx / 2, M)\n",
    "yh = np.linspace(ymin + dy / 2, ymax - dy / 2, N)\n",
    "xe = np.linspace(xmin, xmax, M + 1)\n",
    "ye = np.linspace(ymin, ymax, N + 1)\n",
    "\n",
    "# Depth and other parameters\n",
    "depth = 10.0 * np.ones((M, N))\n",
    "gravity = 10.0\n",
    "fcoriolis = np.zeros((M + 1, N + 1))\n",
    "f0, beta = 0.01, 0.0\n",
    "ymid = 0.5 * (ymin + ymax)\n",
    "for j in range(N + 1):\n",
    "    fcoriolis[:, j] = f0 + beta * (ye[j] - ymid)\n",
    "\n",
    "isnap = 20\n",
    "\n",
    "# Initial conditions\n",
    "u, v, p = initcond(xe, ye)\n",
    "scalef = [1, 1, 1.0, 1e-3]\n",
    "plevs = np.linspace(-0.1, 0.1, 21)\n",
    "sweplot(u, v, p, xh, yh, xe, ye, scalef, plevs)"
   ]
  },
  {
   "cell_type": "code",
   "execution_count": 50,
   "metadata": {},
   "outputs": [],
   "source": [
    "#re define plot for live version\n",
    "\n",
    "def sweplot(u, v, p, xp, yp, xe, ye, scalef, plevs):\n",
    "    \"\"\"\n",
    "    Plots the pressure field as filled contours and overlays velocity vectors.\n",
    "    \n",
    "    Parameters:\n",
    "        u (numpy.ndarray): x-component of the velocity field.\n",
    "        v (numpy.ndarray): y-component of the velocity field.\n",
    "        p (numpy.ndarray): pressure field.\n",
    "        xp (numpy.ndarray): x-coordinates of pressure grid.\n",
    "        yp (numpy.ndarray): y-coordinates of pressure grid.\n",
    "        xe (numpy.ndarray): x-coordinates of velocity grid in the x direction.\n",
    "        ye (numpy.ndarray): y-coordinates of velocity grid in the y direction.\n",
    "        scalef (list): Scaling factors for the plot.\n",
    "        plevs (list): Pressure levels for contour plotting.\n",
    "    \"\"\"\n",
    "    Ms = p.shape\n",
    "    nx, ny = 4, 4  # Interval for plotting velocity vectors\n",
    "\n",
    "    # Clear the current plot to update it\n",
    "    plt.clf()\n",
    "\n",
    "    # Plot pressure field as filled contours\n",
    "    plt.contourf(xp * scalef[3], yp * scalef[3], scalef[2] * p.T, levels=plevs)\n",
    "    plt.colorbar(label='Pressure')\n",
    "\n",
    "    # Interpolate velocity fields to cell centers\n",
    "    up = 0.5 * (u[:Ms[0], :Ms[1]] + u[1:Ms[0]+1, :Ms[1]] )\n",
    "    vp = 0.5 * (v[:Ms[0], :Ms[1]] + v[:Ms[0], 1:Ms[1]+1] )\n",
    "\n",
    "    # Plot velocity vectors using quiver\n",
    "    # plt.quiver(\n",
    "    #     xp[::nx] * scalef[3], yp[::ny] * scalef[3],\n",
    "    #     up[::nx, ::ny].T, vp[::nx, ::ny].T,\n",
    "    #     scale=scalef[0], color='k'\n",
    "    # )\n",
    "\n",
    "    # Set plot limits\n",
    "    lim1 = scalef[3] * xe[0]\n",
    "    lim2 = scalef[3] * xe[Ms[0]]\n",
    "    lim3 = scalef[3] * ye[0]\n",
    "    lim4 = scalef[3] * ye[Ms[1]]\n",
    "\n",
    "    plt.axis([lim1, lim2, lim3, lim4])\n",
    "    plt.xlabel('X')\n",
    "    plt.ylabel('Y')\n",
    "    plt.title('Shallow Water Equations - Pressure and Velocity Field')\n",
    "\n",
    "    # Update the plot\n",
    "    plt.draw()\n",
    "    plt.pause(0.0001)"
   ]
  },
  {
   "cell_type": "code",
   "execution_count": 51,
   "metadata": {},
   "outputs": [],
   "source": [
    "\n",
    "\n",
    "for it in range(1, ntimes + 1):\n",
    "    u, v, p = rk3step(u, v, p, depth, fcoriolis, gravity, dxs, dt)\n",
    "\n",
    "    if it % isnap == 0:\n",
    "        sweplot(u, v, p, xh, yh, xe, ye, scalef, plevs)\n",
    "        plt.pause(0.01)\n",
    "\n",
    "        ua, va, pa = initcond(xe, ye, it * dt)\n",
    "        er2 = (ua - u) ** 2\n",
    "        emaxu = np.sqrt(er2.max())\n",
    "        ermsu = np.sqrt(er2.sum() * dx * dy)\n",
    "\n",
    "        er2 = (va - v) ** 2\n",
    "        emaxv = np.sqrt(er2.max())\n",
    "        ermsv = np.sqrt(er2.sum() * dx * dy)\n",
    "\n",
    "        er2 = (pa - p) ** 2\n",
    "        emaxp = np.sqrt(er2.max())\n",
    "        ermsp = np.sqrt(er2.sum() * dx * dy)\n",
    "\n",
    "        # Store errors or print them if needed\n",
    "        # st[ip, :] = [N, emaxu, emaxv, emaxp, ermsu, ermsv, ermsp]"
   ]
  },
  {
   "cell_type": "code",
   "execution_count": 52,
   "metadata": {},
   "outputs": [
    {
     "data": {
      "text/plain": [
       "<contextlib.ExitStack at 0x228ea670040>"
      ]
     },
     "execution_count": 52,
     "metadata": {},
     "output_type": "execute_result"
    }
   ],
   "source": [
    "plt.ioff()"
   ]
  },
  {
   "cell_type": "code",
   "execution_count": 53,
   "metadata": {},
   "outputs": [],
   "source": [
    "plt.close()"
   ]
  },
  {
   "cell_type": "code",
   "execution_count": null,
   "metadata": {},
   "outputs": [],
   "source": []
  }
 ],
 "metadata": {
  "kernelspec": {
   "display_name": "base",
   "language": "python",
   "name": "python3"
  },
  "language_info": {
   "codemirror_mode": {
    "name": "ipython",
    "version": 3
   },
   "file_extension": ".py",
   "mimetype": "text/x-python",
   "name": "python",
   "nbconvert_exporter": "python",
   "pygments_lexer": "ipython3",
   "version": "3.9.7"
  }
 },
 "nbformat": 4,
 "nbformat_minor": 2
}
